{
 "metadata": {
  "language_info": {
   "codemirror_mode": {
    "name": "ipython",
    "version": 3
   },
   "file_extension": ".py",
   "mimetype": "text/x-python",
   "name": "python",
   "nbconvert_exporter": "python",
   "pygments_lexer": "ipython3",
   "version": "3.6.9-final"
  },
  "orig_nbformat": 2,
  "kernelspec": {
   "name": "Python 3.6.9 64-bit",
   "display_name": "Python 3.6.9 64-bit",
   "metadata": {
    "interpreter": {
     "hash": "31f2aee4e71d21fbe5cf8b01ff0e069b9275f58929596ceb00d14d90e3e16cd6"
    }
   }
  }
 },
 "nbformat": 4,
 "nbformat_minor": 2,
 "cells": [
  {
   "cell_type": "code",
   "execution_count": 1,
   "metadata": {},
   "outputs": [],
   "source": [
    "import os\n",
    "from os import path\n",
    "import pandas as pd"
   ]
  },
  {
   "cell_type": "code",
   "execution_count": 2,
   "metadata": {},
   "outputs": [
    {
     "output_type": "execute_result",
     "data": {
      "text/plain": [
       "['chaos-game-theory_r1.csv',\n",
       " 'chaos-game-theory_r4.csv',\n",
       " 'complex-network-k3l10.csv',\n",
       " 'fourier-class-r5.csv',\n",
       " 'mapping-class_r1.csv',\n",
       " 'mapping-class_r2.csv',\n",
       " 'shannon-entropy-k12.csv']"
      ]
     },
     "metadata": {},
     "execution_count": 2
    }
   ],
   "source": [
    "base = path.join('..', 'processed', '1-covid')\n",
    "\n",
    "files = sorted(f for f in os.listdir(base) if f.endswith('.csv'))\n",
    "\n",
    "files"
   ]
  },
  {
   "cell_type": "code",
   "execution_count": 3,
   "metadata": {},
   "outputs": [],
   "source": [
    "select_k_features = 500"
   ]
  },
  {
   "cell_type": "code",
   "execution_count": 4,
   "metadata": {},
   "outputs": [
    {
     "output_type": "stream",
     "name": "stdout",
     "text": [
      "mapping-class_r2.csv\n",
      "(1717, 30820)\n",
      "CPU times: user 33.5 s, sys: 731 ms, total: 34.2 s\n",
      "Wall time: 34.2 s\n"
     ]
    },
    {
     "output_type": "execute_result",
     "data": {
      "text/plain": [
       "      0      1      2      3      4      5      6      7      8      9      \\\n",
       "0  MN369046   0.75   0.50   0.75   0.25    0.5   0.75   0.50   0.75   0.50   \n",
       "1  MN306046   0.50   0.25   0.50   1.00    1.0   1.00   1.00   1.00   0.75   \n",
       "2  MF542265   0.75   1.00   0.50   0.25    0.5   0.50   1.00   1.00   0.75   \n",
       "3  KY983587   0.50   0.25   0.50   0.50    1.0   1.00   0.75   0.50   1.00   \n",
       "4  KY621348   0.50   0.50   0.75   1.00    0.5   0.75   0.25   0.50   1.00   \n",
       "\n",
       "   ...  30810  30811  30812  30813  30814  30815  30816  30817  30818  30819  \n",
       "0  ...    0.0    0.0    0.0    0.0    0.0    0.0    0.0    0.0    0.0      0  \n",
       "1  ...    0.0    0.0    0.0    0.0    0.0    0.0    0.0    0.0    0.0      0  \n",
       "2  ...    0.0    0.0    0.0    0.0    0.0    0.0    0.0    0.0    0.0      0  \n",
       "3  ...    0.0    0.0    0.0    0.0    0.0    0.0    0.0    0.0    0.0      0  \n",
       "4  ...    0.0    0.0    0.0    0.0    0.0    0.0    0.0    0.0    0.0      0  \n",
       "\n",
       "[5 rows x 30820 columns]"
      ],
      "text/html": "<div>\n<style scoped>\n    .dataframe tbody tr th:only-of-type {\n        vertical-align: middle;\n    }\n\n    .dataframe tbody tr th {\n        vertical-align: top;\n    }\n\n    .dataframe thead th {\n        text-align: right;\n    }\n</style>\n<table border=\"1\" class=\"dataframe\">\n  <thead>\n    <tr style=\"text-align: right;\">\n      <th></th>\n      <th>0</th>\n      <th>1</th>\n      <th>2</th>\n      <th>3</th>\n      <th>4</th>\n      <th>5</th>\n      <th>6</th>\n      <th>7</th>\n      <th>8</th>\n      <th>9</th>\n      <th>...</th>\n      <th>30810</th>\n      <th>30811</th>\n      <th>30812</th>\n      <th>30813</th>\n      <th>30814</th>\n      <th>30815</th>\n      <th>30816</th>\n      <th>30817</th>\n      <th>30818</th>\n      <th>30819</th>\n    </tr>\n  </thead>\n  <tbody>\n    <tr>\n      <th>0</th>\n      <td>MN369046</td>\n      <td>0.75</td>\n      <td>0.50</td>\n      <td>0.75</td>\n      <td>0.25</td>\n      <td>0.5</td>\n      <td>0.75</td>\n      <td>0.50</td>\n      <td>0.75</td>\n      <td>0.50</td>\n      <td>...</td>\n      <td>0.0</td>\n      <td>0.0</td>\n      <td>0.0</td>\n      <td>0.0</td>\n      <td>0.0</td>\n      <td>0.0</td>\n      <td>0.0</td>\n      <td>0.0</td>\n      <td>0.0</td>\n      <td>0</td>\n    </tr>\n    <tr>\n      <th>1</th>\n      <td>MN306046</td>\n      <td>0.50</td>\n      <td>0.25</td>\n      <td>0.50</td>\n      <td>1.00</td>\n      <td>1.0</td>\n      <td>1.00</td>\n      <td>1.00</td>\n      <td>1.00</td>\n      <td>0.75</td>\n      <td>...</td>\n      <td>0.0</td>\n      <td>0.0</td>\n      <td>0.0</td>\n      <td>0.0</td>\n      <td>0.0</td>\n      <td>0.0</td>\n      <td>0.0</td>\n      <td>0.0</td>\n      <td>0.0</td>\n      <td>0</td>\n    </tr>\n    <tr>\n      <th>2</th>\n      <td>MF542265</td>\n      <td>0.75</td>\n      <td>1.00</td>\n      <td>0.50</td>\n      <td>0.25</td>\n      <td>0.5</td>\n      <td>0.50</td>\n      <td>1.00</td>\n      <td>1.00</td>\n      <td>0.75</td>\n      <td>...</td>\n      <td>0.0</td>\n      <td>0.0</td>\n      <td>0.0</td>\n      <td>0.0</td>\n      <td>0.0</td>\n      <td>0.0</td>\n      <td>0.0</td>\n      <td>0.0</td>\n      <td>0.0</td>\n      <td>0</td>\n    </tr>\n    <tr>\n      <th>3</th>\n      <td>KY983587</td>\n      <td>0.50</td>\n      <td>0.25</td>\n      <td>0.50</td>\n      <td>0.50</td>\n      <td>1.0</td>\n      <td>1.00</td>\n      <td>0.75</td>\n      <td>0.50</td>\n      <td>1.00</td>\n      <td>...</td>\n      <td>0.0</td>\n      <td>0.0</td>\n      <td>0.0</td>\n      <td>0.0</td>\n      <td>0.0</td>\n      <td>0.0</td>\n      <td>0.0</td>\n      <td>0.0</td>\n      <td>0.0</td>\n      <td>0</td>\n    </tr>\n    <tr>\n      <th>4</th>\n      <td>KY621348</td>\n      <td>0.50</td>\n      <td>0.50</td>\n      <td>0.75</td>\n      <td>1.00</td>\n      <td>0.5</td>\n      <td>0.75</td>\n      <td>0.25</td>\n      <td>0.50</td>\n      <td>1.00</td>\n      <td>...</td>\n      <td>0.0</td>\n      <td>0.0</td>\n      <td>0.0</td>\n      <td>0.0</td>\n      <td>0.0</td>\n      <td>0.0</td>\n      <td>0.0</td>\n      <td>0.0</td>\n      <td>0.0</td>\n      <td>0</td>\n    </tr>\n  </tbody>\n</table>\n<p>5 rows × 30820 columns</p>\n</div>"
     },
     "metadata": {},
     "execution_count": 4
    }
   ],
   "source": [
    "%%time\n",
    "\n",
    "index = 5\n",
    "\n",
    "print(files[index])\n",
    "frame = pd.read_csv(path.join(base,files[index]), header=None)\n",
    "\n",
    "if frame.iloc[0,0] == \"nameseq\":\n",
    "    frame.drop(labels=0, axis=0, inplace=True)\n",
    "\n",
    "print(frame.shape)\n",
    "\n",
    "frame.head()"
   ]
  },
  {
   "cell_type": "code",
   "execution_count": 5,
   "metadata": {},
   "outputs": [
    {
     "output_type": "stream",
     "name": "stdout",
     "text": [
      "<class 'pandas.core.frame.DataFrame'>\nRangeIndex: 1717 entries, 0 to 1716\nColumns: 30820 entries, 0 to 30819\ndtypes: float64(30818), int64(1), object(1)\nmemory usage: 403.7+ MB\n"
     ]
    }
   ],
   "source": [
    "frame.info(max_cols=10)"
   ]
  },
  {
   "cell_type": "code",
   "execution_count": 6,
   "metadata": {},
   "outputs": [
    {
     "output_type": "execute_result",
     "data": {
      "text/plain": [
       "30818"
      ]
     },
     "metadata": {},
     "execution_count": 6
    }
   ],
   "source": [
    "(30820 - 2)"
   ]
  },
  {
   "cell_type": "code",
   "execution_count": 7,
   "metadata": {},
   "outputs": [],
   "source": [
    "# Feature selection with ANOVA\n",
    "from sklearn.feature_selection import chi2\n",
    "from sklearn.feature_selection import SelectKBest\n",
    "from sklearn.feature_selection import mutual_info_classif\n",
    "from sklearn.feature_selection import f_classif"
   ]
  },
  {
   "cell_type": "code",
   "execution_count": 8,
   "metadata": {},
   "outputs": [],
   "source": [
    "from collections import namedtuple\n",
    "from operator import attrgetter\n",
    "\n",
    "Feature = namedtuple('Feature', 'attr score')\n",
    "get_key = attrgetter('score')\n",
    "\n",
    "def feature_selection_anova(df, columns, target, k = 42, show=False, show_n=None):\n",
    "    \n",
    "    previsores = df[columns].values\n",
    "    _target = df[target].values\n",
    "\n",
    "    # Utilizando a função ANOVA\n",
    "    test = SelectKBest(score_func=f_classif, k=k)\n",
    "    fit = test.fit(previsores, _target)\n",
    "\n",
    "    if show:\n",
    "        if show_n is None:\n",
    "            show_n = k\n",
    "\n",
    "        scores = [ Feature(attr=name, score=score) for name, score in zip(columns, fit.scores_)]\n",
    "        scores = sorted(scores, key=get_key, reverse=True)\n",
    "        for i, score in enumerate(scores, start=1) :\n",
    "            endline = '\\t' if i % 4 else '\\n'\n",
    "            text = f\"Feature {score.attr} : {score.score:.4f}\"\n",
    "            print(text.ljust(30), end=endline)\n",
    "            if (show_n is not None) and i > show_n:\n",
    "                break\n",
    "        \n",
    "    return fit"
   ]
  },
  {
   "cell_type": "code",
   "execution_count": 9,
   "metadata": {},
   "outputs": [
    {
     "output_type": "stream",
     "name": "stdout",
     "text": [
      "Feature 29967 : 2576.4817     \tFeature 29965 : 2531.1451     \tFeature 29957 : 2486.4985     \tFeature 29930 : 2480.9900     \nFeature 29947 : 2466.9201     \tFeature 29943 : 2446.6938     \tFeature 29960 : 2446.0063     \tFeature 29922 : 2436.7788     \nFeature 29962 : 2426.6704     \tFeature 29973 : 2410.6630     \tFeature 29978 : 2393.9688     \tFeature 29981 : 2390.4800     \nFeature 29946 : 2386.7837     \tFeature 29954 : 2369.3796     \tFeature 29975 : 2365.8564     \tFeature 29980 : 2357.3292     \nFeature 29968 : 2354.9033     \tFeature 29963 : 2331.8147     \tFeature 29956 : 2306.4322     \tFeature 29972 : 2304.9442     \nFeature 29940 : 2304.7978     \tFeature 29991 : 2302.4407     \tFeature 29952 : 2297.3847     \tFeature 30045 : 2286.0376     \nFeature 29984 : 2283.6794     \tFeature 29995 : 2279.7795     \tFeature 29997 : 2275.5506     \tFeature 29951 : 2274.1304     \nFeature 29969 : 2271.2361     \tFeature 29923 : 2270.5683     \tFeature 29964 : 2268.5788     \tFeature 29958 : 2264.1530     \nFeature 29921 : 2262.7438     \tFeature 29935 : 2262.5399     \tFeature 29983 : 2251.5060     \tFeature 29959 : 2243.1391     \nFeature 29927 : 2233.2223     \tFeature 29941 : 2232.7956     \tFeature 30033 : 2212.6289     \tFeature 30065 : 2212.0562     \nFeature 29936 : 2195.2210     \tFeature 30036 : 2193.1689     \tFeature 30046 : 2192.3934     \tFeature 29917 : 2189.6853     \nFeature 29919 : 2186.8784     \tFeature 29945 : 2176.4892     \tFeature 29994 : 2166.0718     \tFeature 29961 : 2165.9969     \nFeature 29944 : 2153.3501     \tFeature 30042 : 2152.9962     \tFeature 30002 : 2138.1248     \tFeature 30035 : 2136.5774     \nFeature 29987 : 2130.6884     \tFeature 29937 : 2120.2731     \tFeature 29942 : 2118.6434     \tFeature 30061 : 2118.2720     \nFeature 29924 : 2116.3440     \tFeature 29966 : 2113.0213     \tFeature 29986 : 2106.5595     \tFeature 30038 : 2098.6691     \nFeature 30014 : 2089.4496     \tFeature 30016 : 2086.5818     \tFeature 30052 : 2080.3283     \tFeature 29938 : 2076.3757     \nFeature 29989 : 2072.3102     \tFeature 29970 : 2069.6031     \tFeature 30054 : 2067.9483     \tFeature 30048 : 2061.5347     \nFeature 29925 : 2045.6605     \tFeature 30021 : 2043.7326     \tFeature 30083 : 2037.7273     \tFeature 29988 : 2035.3713     \nFeature 30062 : 2033.9491     \tFeature 30071 : 2027.3412     \tFeature 30078 : 2025.4453     \tFeature 30057 : 2019.2599     \nFeature 29993 : 2018.8127     \tFeature 29939 : 2016.4322     \tFeature 29929 : 2000.1664     \tFeature 30013 : 1999.6375     \nFeature 30018 : 1981.2109     \tFeature 30067 : 1971.9026     \tFeature 30060 : 1970.1398     \tFeature 30040 : 1969.2858     \nFeature 30011 : 1954.3748     \tFeature 30049 : 1951.5155     \tFeature 30051 : 1945.9792     \tFeature 29916 : 1942.9940     \nFeature 30056 : 1934.0511     \tFeature 30072 : 1932.8725     \tFeature 30010 : 1932.3049     \tFeature 30059 : 1920.1184     \nFeature 30079 : 1913.6696     \tFeature 29985 : 1913.1612     \tFeature 29976 : 1913.1188     \tFeature 30075 : 1911.4349     \nFeature 30031 : 1906.5523     \tFeature 30053 : 1901.9913     \tFeature 29971 : 1897.9568     \tFeature 30050 : 1887.9660     \nFeature 29928 : 1874.0255     \tFeature 30096 : 1873.8508     \tFeature 30066 : 1872.1028     \tFeature 30024 : 1868.7204     \nFeature 29982 : 1859.0285     \tFeature 29914 : 1838.9535     \tFeature 30023 : 1836.0721     \tFeature 29950 : 1827.2841     \nFeature 30043 : 1825.6454     \tFeature 30044 : 1817.7313     \tFeature 29955 : 1809.3438     \tFeature 30000 : 1807.2041     \nFeature 30029 : 1796.8845     \tFeature 30064 : 1793.3419     \tFeature 29953 : 1793.3242     \tFeature 29979 : 1782.6726     \nFeature 30032 : 1777.2864     \tFeature 30076 : 1775.8955     \tFeature 30037 : 1771.7656     \tFeature 30006 : 1771.5697     \nFeature 29932 : 1768.0146     \tFeature 29933 : 1765.8033     \tFeature 30007 : 1763.0481     \tFeature 29977 : 1762.8627     \nFeature 29918 : 1759.5167     \tFeature 30055 : 1757.3054     \tFeature 30005 : 1753.4736     \tFeature 30080 : 1752.2259     \nFeature 30095 : 1748.5342     \tFeature 30025 : 1746.5362     \tFeature 30082 : 1743.7020     \tFeature 29908 : 1742.6626     \nFeature 30093 : 1739.5065     \tFeature 30009 : 1738.4623     \tFeature 30089 : 1734.1278     \tFeature 30086 : 1733.4832     \nFeature 29920 : 1732.8748     \tFeature 30092 : 1731.5340     \tFeature 30063 : 1731.5219     \tFeature 30085 : 1731.4340     \nFeature 30027 : 1729.6071     \tFeature 30015 : 1727.8646     \tFeature 30047 : 1720.4963     \tFeature 30017 : 1719.4565     \nFeature 29931 : 1711.9448     \tFeature 29974 : 1704.5643     \tFeature 30087 : 1703.3902     \tFeature 30022 : 1702.6155     \nFeature 29990 : 1695.4839     \tFeature 30088 : 1690.1159     \tFeature 30094 : 1684.3829     \tFeature 30068 : 1674.3704     \nFeature 29934 : 1668.0907     \tFeature 30034 : 1664.8982     \tFeature 29926 : 1657.9524     \tFeature 30069 : 1648.8985     \nFeature 30012 : 1643.4905     \tFeature 29949 : 1640.2031     \tFeature 30058 : 1639.8863     \tFeature 30070 : 1631.4685     \nFeature 29909 : 1627.3544     \tFeature 30003 : 1624.3727     \tFeature 29996 : 1617.0920     \tFeature 30039 : 1607.4334     \nFeature 30073 : 1607.1129     \tFeature 30074 : 1603.4447     \tFeature 30081 : 1601.8631     \tFeature 30028 : 1582.5704     \nFeature 30041 : 1574.6736     \tFeature 29948 : 1562.6470     \tFeature 30020 : 1507.3234     \tFeature 29906 : 1502.9816     \nFeature 29911 : 1497.5336     \tFeature 30030 : 1476.5104     \tFeature 30084 : 1475.5182     \tFeature 29913 : 1473.1918     \nFeature 30026 : 1461.0013     \tFeature 30001 : 1459.2847     \tFeature 30077 : 1441.8531     \tFeature 30091 : 1439.4136     \nFeature 29912 : 1436.7473     \tFeature 29915 : 1386.8307     \tFeature 29907 : 1384.9436     \tFeature 30008 : 1373.2286     \nFeature 30019 : 1363.5260     \tFeature 29905 : 1362.8421     \tFeature 29992 : 1353.7390     \tFeature 29999 : 1342.9207     \nFeature 30090 : 1336.5262     \tFeature 30004 : 1276.3035     \tFeature 29998 : 1276.1848     \tFeature 29904 : 1223.2766     \nFeature 30105 : 1092.7390     \tFeature 30102 : 1062.0578     \tFeature 29910 : 1047.3441     \tFeature 30107 : 1036.3150     \nFeature 30101 : 1013.5636     \tFeature 30113 : 1006.0001     \tFeature 30097 : 985.3377      \tFeature 30112 : 969.5956      \nFeature 30098 : 964.4749      \tFeature 30115 : 958.1685      \tFeature 30103 : 957.5463      \tFeature 30110 : 955.6445      \nFeature 30116 : 943.5321      \tFeature 30114 : 935.1259      \tFeature 30118 : 919.9086      \tFeature 30117 : 918.5286      \nFeature 30104 : 889.6316      \tFeature 30100 : 885.5699      \tFeature 30109 : 863.2322      \tFeature 30099 : 848.7420      \nFeature 30108 : 844.1166      \tFeature 30106 : 836.1431      \tFeature 30111 : 823.4081      \tFeature 1630 : 818.7411       \nFeature 30120 : 739.2963      \tFeature 30119 : 719.4042      \tFeature 28900 : 712.1353      \tFeature 30122 : 660.6287      \nFeature 30121 : 629.6405      \tFeature 28537 : 627.0870      \tFeature 30123 : 623.4522      \tFeature 28024 : 620.8973      \nFeature 29558 : 603.4744      \tFeature 22799 : 593.7626      \tFeature 3921 : 586.1582       \tFeature 6481 : 572.1114       \nFeature 29388 : 569.8238      \tFeature 29903 : 556.0419      \tFeature 8533 : 554.5542       \tFeature 28271 : 553.6324      \nFeature 30277 : 545.4053      \tFeature 30283 : 543.8245      \tFeature 30346 : 543.6775      \tFeature 30194 : 542.8015      \nFeature 30295 : 542.5445      \tFeature 30290 : 542.0802      \tFeature 30210 : 540.4922      \tFeature 30213 : 538.4216      \nFeature 30286 : 536.5280      \tFeature 30160 : 535.7311      \tFeature 30531 : 535.2092      \tFeature 30271 : 535.0654      \nFeature 30502 : 534.1000      \tFeature 30353 : 532.8340      \tFeature 30131 : 531.4011      \tFeature 30192 : 531.2492      \nFeature 30177 : 530.1160      \tFeature 30298 : 528.6232      \tFeature 30260 : 528.4237      \tFeature 30180 : 528.0025      \nFeature 30505 : 527.8731      \tFeature 30183 : 527.8673      \tFeature 30521 : 527.8590      \tFeature 30287 : 527.8452      \nFeature 30197 : 527.7637      \tFeature 30280 : 527.6737      \tFeature 30126 : 527.6286      \tFeature 30229 : 527.3985      \nFeature 30530 : 527.3509      \tFeature 30186 : 527.0919      \tFeature 30519 : 527.0859      \tFeature 30236 : 526.3470      \nFeature 30560 : 526.3053      \tFeature 30373 : 526.1192      \tFeature 28557 : 525.6029      \tFeature 30538 : 525.2913      \nFeature 30136 : 525.2898      \tFeature 30366 : 524.9158      \tFeature 30541 : 524.3443      \tFeature 30278 : 524.3062      \nFeature 30522 : 524.2070      \tFeature 30142 : 524.1111      \tFeature 30338 : 524.0936      \tFeature 30356 : 523.6928      \nFeature 1717 : 523.3741       \tFeature 30289 : 522.9352      \tFeature 30409 : 522.8822      \tFeature 30306 : 522.7692      \nFeature 30486 : 522.6940      \tFeature 30202 : 522.6797      \tFeature 30284 : 522.3109      \tFeature 30417 : 522.0912      \nFeature 30441 : 521.9532      \tFeature 30516 : 521.4496      \tFeature 30292 : 521.3353      \tFeature 30526 : 521.3209      \nFeature 30564 : 520.0495      \tFeature 30268 : 519.8316      \tFeature 30527 : 519.8116      \tFeature 30525 : 519.6038      \nFeature 30535 : 519.5506      \tFeature 30191 : 519.2198      \tFeature 30545 : 519.1358      \tFeature 30340 : 518.9786      \nFeature 30324 : 518.8324      \tFeature 30232 : 517.9155      \tFeature 30411 : 517.6000      \tFeature 30537 : 517.4689      \nFeature 30362 : 517.4664      \tFeature 30328 : 517.3580      \tFeature 30227 : 517.2572      \tFeature 30144 : 517.1564      \nFeature 30301 : 517.0181      \tFeature 30297 : 516.4462      \tFeature 30226 : 516.3437      \tFeature 30293 : 516.2625      \nFeature 30141 : 516.0278      \tFeature 30312 : 515.8286      \tFeature 30458 : 515.7720      \tFeature 30217 : 515.6972      \nFeature 30408 : 515.6559      \tFeature 30240 : 514.9002      \tFeature 30314 : 514.5737      \tFeature 30221 : 514.4906      \nFeature 30553 : 514.4719      \tFeature 30430 : 514.4039      \tFeature 30178 : 513.6473      \tFeature 30394 : 513.4681      \nFeature 30395 : 513.1683      \tFeature 30390 : 512.9455      \tFeature 30139 : 512.8302      \tFeature 30428 : 512.6206      \nFeature 30279 : 512.6197      \tFeature 30128 : 512.4202      \tFeature 30454 : 511.8260      \tFeature 30179 : 511.7805      \nFeature 30444 : 511.6413      \tFeature 1871 : 511.6118       \tFeature 30246 : 511.3945      \tFeature 30457 : 511.3365      \nFeature 30557 : 511.0476      \tFeature 30282 : 510.2320      \tFeature 30209 : 509.4441      \tFeature 30345 : 509.1940      \nFeature 30471 : 508.8537      \tFeature 30150 : 508.3603      \tFeature 30300 : 508.3603      \tFeature 30434 : 508.2413      \nFeature 30352 : 508.2208      \tFeature 30369 : 508.0273      \tFeature 30291 : 507.6057      \tFeature 30294 : 507.5263      \nFeature 30343 : 507.4338      \tFeature 30389 : 507.3605      \tFeature 30201 : 506.5002      \tFeature 30372 : 506.3453      \nFeature 30220 : 506.1724      \tFeature 30344 : 505.8020      \tFeature 20747 : 505.7513      \tFeature 6415 : 505.7384       \nFeature 30534 : 505.7279      \tFeature 30266 : 505.5594      \tFeature 30159 : 505.4955      \tFeature 30199 : 505.3236      \nFeature 30407 : 505.2539      \tFeature 30334 : 505.1845      \tFeature 30549 : 505.1845      \tFeature 30265 : 505.0241      \nFeature 30337 : 504.8002      \tFeature 30335 : 504.4193      \tFeature 30563 : 504.3531      \tFeature 30544 : 504.2934      \nFeature 30499 : 504.2611      \tFeature 30569 : 504.1988      \tFeature 30243 : 504.0550      \tFeature 30426 : 504.0209      \nFeature 30513 : 503.8346      \tFeature 30269 : 503.6459      \tFeature 30272 : 503.5464      \tFeature 30558 : 503.3655      \nFeature 30317 : 503.2478      \tFeature 30445 : 503.1649      \tFeature 30473 : 503.1175      \tFeature 30518 : 503.1115      \nFeature 30355 : 502.5100      \tFeature 30510 : 502.3432      \tFeature 30234 : 502.2196      \tFeature 30529 : 502.1218      \nFeature 30542 : 502.0612      \tFeature 30391 : 501.9401      \tFeature 30506 : 501.8617      \tFeature 30241 : 501.8265      \nFeature 30483 : 501.7498      \tFeature 30482 : 501.6219      \tFeature 30315 : 501.3674      \tFeature 30198 : 501.0753      \nFeature 30379 : 500.8476      \tFeature 30433 : 500.5676      \tFeature 30429 : 500.3739      \tFeature 30393 : 500.2718      \nFeature 30479 : 500.0795      \tFeature 30383 : 500.0415      \tFeature 30127 : 499.6077      \tFeature 30349 : 499.3357      \nFeature 30550 : 499.2520      \tFeature 30552 : 498.8670      \tFeature 30341 : 498.7769      \tFeature 30447 : 498.3130      \nFeature 30252 : 498.0505      \tFeature 30288 : 497.8424      \tFeature 30133 : 497.8062      \tFeature 30540 : 497.5461      \nFeature 30547 : 497.4338      \tFeature 30556 : 497.2163      \tFeature 30348 : 497.1144      \tFeature 30189 : 497.0227      \nFeature 30431 : 496.9214      \tFeature 30365 : 496.9129      \tFeature 30363 : 496.8779      \tFeature 30161 : 496.7984      \nFeature 30331 : 496.7078      \tFeature 30304 : 496.2448      \tFeature 30296 : 495.7992      \tFeature 30303 : 495.5408      \nFeature 30237 : 495.4160      \tFeature 30276 : 495.1126      \tFeature 30156 : 495.0347      \tFeature 30224 : 495.0097      \nFeature 30508 : 495.0081      \tFeature 30151 : 494.9920      \tFeature 30216 : 494.8541      \tFeature 30190 : 494.8497      \nFeature 30561 : 494.6621      \tFeature 12729 : 494.6547      \tFeature 30188 : 494.6504      \tFeature 30472 : 494.2951      \nFeature 30162 : 494.2077      \tFeature 30254 : 493.5932      \tFeature 30554 : 493.4978      \tFeature 30571 : 493.1546      \nFeature 30418 : 492.9902      \tFeature 28274 : 492.8241      \tFeature 30196 : 492.7686      \tFeature 30477 : 492.7556      \nFeature 30376 : 492.5650      \tFeature 30299 : 492.5453      \tFeature 23919 : 492.5233      \tFeature 30130 : 492.4540      \nFeature 28018 : 492.3744      \tFeature 30281 : 492.3722      \tFeature 30332 : 492.3432      \tFeature 30321 : 492.1864      \nFeature 30523 : 492.0798      \tFeature 30427 : 492.0125      \tFeature 30515 : 491.7057      \tFeature 30422 : 491.4143      \nFeature 30200 : 491.3706      \tFeature 30568 : 491.2345      \tFeature 30354 : 491.1037      \tFeature 30330 : 490.9328      \nFeature 30562 : 490.8619      \tFeature 30125 : 490.7602      \tFeature 30206 : 490.6846      \tFeature 30351 : 490.0817      \nFeature 30497 : 489.8867      \tFeature 30223 : 489.8249      \tFeature 30157 : 489.6657      \tFeature 30124 : 489.2665      \nFeature 1206 : 489.0807       \tFeature 30524 : 489.0183      \tFeature 30257 : 488.9925      \tFeature 30149 : 488.9723      \nFeature 21862 : 488.8720      \tFeature 30251 : 488.8399      \tFeature 30406 : 488.1701      \tFeature 30382 : 488.0537      \nFeature 30509 : 487.8872      \tFeature 30419 : 487.7708      \tFeature 28027 : 487.6654      \tFeature 30228 : 487.5423      \nFeature 30263 : 487.2872      \tFeature 30528 : 487.1905      \tFeature 30164 : 487.1523      \tFeature 30205 : 487.1248      \nFeature 30231 : 486.8290      \tFeature 30184 : 486.7993      \tFeature 30432 : 486.1667      \tFeature 30440 : 485.5887      \nFeature 30168 : 485.5885      \tFeature 30512 : 485.5885      \tFeature 30414 : 485.5728      \tFeature 30574 : 485.5293      \nFeature 30559 : 485.3799      \tFeature 30230 : 485.2604      \tFeature 30137 : 485.1633      \tFeature 30468 : 485.1467      \nFeature 30420 : 484.9852      \tFeature 30275 : 484.6559      \tFeature 30501 : 484.5836      \tFeature 30359 : 484.4548      \nFeature 30405 : 484.2342      \tFeature 30342 : 484.0888      \tFeature 30536 : 483.9482      \tFeature 30153 : 483.8830      \nFeature 30323 : 483.7707      \tFeature 30207 : 483.5545      \tFeature 30155 : 483.4362      \tFeature 30548 : 483.3553      \nFeature 30203 : 483.3349      \t"
     ]
    }
   ],
   "source": [
    "# Index from 0 to 30819\n",
    "\n",
    "#     feature_selection_anova(df, columns, target, k = 42, show=False, show_n=None)\n",
    "anova = feature_selection_anova(frame, range(1,30819), 30819, k = select_k_features, show=True)"
   ]
  },
  {
   "cell_type": "code",
   "execution_count": 10,
   "metadata": {},
   "outputs": [
    {
     "output_type": "execute_result",
     "data": {
      "text/plain": [
       "   1      2      3      4      5      6      7      8      9      10     ...  \\\n",
       "0   0.75   0.50   0.75   0.25    0.5   0.75   0.50   0.75   0.50   0.75  ...   \n",
       "1   0.50   0.25   0.50   1.00    1.0   1.00   1.00   1.00   0.75   0.25  ...   \n",
       "2   0.75   1.00   0.50   0.25    0.5   0.50   1.00   1.00   0.75   0.50  ...   \n",
       "3   0.50   0.25   0.50   0.50    1.0   1.00   0.75   0.50   1.00   0.25  ...   \n",
       "4   0.50   0.50   0.75   1.00    0.5   0.75   0.25   0.50   1.00   0.75  ...   \n",
       "\n",
       "   30809  30810  30811  30812  30813  30814  30815  30816  30817  30818  \n",
       "0    0.0    0.0    0.0    0.0    0.0    0.0    0.0    0.0    0.0    0.0  \n",
       "1    0.0    0.0    0.0    0.0    0.0    0.0    0.0    0.0    0.0    0.0  \n",
       "2    0.0    0.0    0.0    0.0    0.0    0.0    0.0    0.0    0.0    0.0  \n",
       "3    0.0    0.0    0.0    0.0    0.0    0.0    0.0    0.0    0.0    0.0  \n",
       "4    0.0    0.0    0.0    0.0    0.0    0.0    0.0    0.0    0.0    0.0  \n",
       "\n",
       "[5 rows x 30818 columns]"
      ],
      "text/html": "<div>\n<style scoped>\n    .dataframe tbody tr th:only-of-type {\n        vertical-align: middle;\n    }\n\n    .dataframe tbody tr th {\n        vertical-align: top;\n    }\n\n    .dataframe thead th {\n        text-align: right;\n    }\n</style>\n<table border=\"1\" class=\"dataframe\">\n  <thead>\n    <tr style=\"text-align: right;\">\n      <th></th>\n      <th>1</th>\n      <th>2</th>\n      <th>3</th>\n      <th>4</th>\n      <th>5</th>\n      <th>6</th>\n      <th>7</th>\n      <th>8</th>\n      <th>9</th>\n      <th>10</th>\n      <th>...</th>\n      <th>30809</th>\n      <th>30810</th>\n      <th>30811</th>\n      <th>30812</th>\n      <th>30813</th>\n      <th>30814</th>\n      <th>30815</th>\n      <th>30816</th>\n      <th>30817</th>\n      <th>30818</th>\n    </tr>\n  </thead>\n  <tbody>\n    <tr>\n      <th>0</th>\n      <td>0.75</td>\n      <td>0.50</td>\n      <td>0.75</td>\n      <td>0.25</td>\n      <td>0.5</td>\n      <td>0.75</td>\n      <td>0.50</td>\n      <td>0.75</td>\n      <td>0.50</td>\n      <td>0.75</td>\n      <td>...</td>\n      <td>0.0</td>\n      <td>0.0</td>\n      <td>0.0</td>\n      <td>0.0</td>\n      <td>0.0</td>\n      <td>0.0</td>\n      <td>0.0</td>\n      <td>0.0</td>\n      <td>0.0</td>\n      <td>0.0</td>\n    </tr>\n    <tr>\n      <th>1</th>\n      <td>0.50</td>\n      <td>0.25</td>\n      <td>0.50</td>\n      <td>1.00</td>\n      <td>1.0</td>\n      <td>1.00</td>\n      <td>1.00</td>\n      <td>1.00</td>\n      <td>0.75</td>\n      <td>0.25</td>\n      <td>...</td>\n      <td>0.0</td>\n      <td>0.0</td>\n      <td>0.0</td>\n      <td>0.0</td>\n      <td>0.0</td>\n      <td>0.0</td>\n      <td>0.0</td>\n      <td>0.0</td>\n      <td>0.0</td>\n      <td>0.0</td>\n    </tr>\n    <tr>\n      <th>2</th>\n      <td>0.75</td>\n      <td>1.00</td>\n      <td>0.50</td>\n      <td>0.25</td>\n      <td>0.5</td>\n      <td>0.50</td>\n      <td>1.00</td>\n      <td>1.00</td>\n      <td>0.75</td>\n      <td>0.50</td>\n      <td>...</td>\n      <td>0.0</td>\n      <td>0.0</td>\n      <td>0.0</td>\n      <td>0.0</td>\n      <td>0.0</td>\n      <td>0.0</td>\n      <td>0.0</td>\n      <td>0.0</td>\n      <td>0.0</td>\n      <td>0.0</td>\n    </tr>\n    <tr>\n      <th>3</th>\n      <td>0.50</td>\n      <td>0.25</td>\n      <td>0.50</td>\n      <td>0.50</td>\n      <td>1.0</td>\n      <td>1.00</td>\n      <td>0.75</td>\n      <td>0.50</td>\n      <td>1.00</td>\n      <td>0.25</td>\n      <td>...</td>\n      <td>0.0</td>\n      <td>0.0</td>\n      <td>0.0</td>\n      <td>0.0</td>\n      <td>0.0</td>\n      <td>0.0</td>\n      <td>0.0</td>\n      <td>0.0</td>\n      <td>0.0</td>\n      <td>0.0</td>\n    </tr>\n    <tr>\n      <th>4</th>\n      <td>0.50</td>\n      <td>0.50</td>\n      <td>0.75</td>\n      <td>1.00</td>\n      <td>0.5</td>\n      <td>0.75</td>\n      <td>0.25</td>\n      <td>0.50</td>\n      <td>1.00</td>\n      <td>0.75</td>\n      <td>...</td>\n      <td>0.0</td>\n      <td>0.0</td>\n      <td>0.0</td>\n      <td>0.0</td>\n      <td>0.0</td>\n      <td>0.0</td>\n      <td>0.0</td>\n      <td>0.0</td>\n      <td>0.0</td>\n      <td>0.0</td>\n    </tr>\n  </tbody>\n</table>\n<p>5 rows × 30818 columns</p>\n</div>"
     },
     "metadata": {},
     "execution_count": 10
    }
   ],
   "source": [
    "frame.iloc[:5, 1:30819]"
   ]
  },
  {
   "cell_type": "code",
   "execution_count": 11,
   "metadata": {},
   "outputs": [
    {
     "output_type": "execute_result",
     "data": {
      "text/plain": [
       "0    0\n",
       "1    0\n",
       "2    0\n",
       "3    0\n",
       "4    0\n",
       "Name: 30819, dtype: int64"
      ]
     },
     "metadata": {},
     "execution_count": 11
    }
   ],
   "source": [
    "frame.iloc[:5,30819]"
   ]
  },
  {
   "cell_type": "code",
   "execution_count": 12,
   "metadata": {},
   "outputs": [],
   "source": [
    "from sklearn.model_selection import train_test_split\n",
    "\n",
    "X, X_teste, y, y_teste = train_test_split( frame.iloc[:, 1:30819],\n",
    "                                           frame.iloc[:, 30819], \n",
    "                                           train_size=0.7, \n",
    "                                           test_size=0.3)\n"
   ]
  },
  {
   "cell_type": "code",
   "execution_count": 13,
   "metadata": {},
   "outputs": [],
   "source": [
    "from sklearn.ensemble import GradientBoostingClassifier\n",
    "\n",
    "model = GradientBoostingClassifier(n_estimators=400, learning_rate=3.0, max_depth=1, random_state=63)"
   ]
  },
  {
   "cell_type": "code",
   "execution_count": 14,
   "metadata": {},
   "outputs": [],
   "source": [
    "from sklearn.pipeline import Pipeline\n",
    "from sklearn.preprocessing import MinMaxScaler\n",
    "from sklearn.model_selection import KFold\n",
    "from sklearn.model_selection import cross_validate\n",
    "\n",
    "from sklearn.metrics import cohen_kappa_score, make_scorer\n",
    "from imblearn.metrics import geometric_mean_score"
   ]
  },
  {
   "cell_type": "code",
   "execution_count": 15,
   "metadata": {},
   "outputs": [
    {
     "output_type": "stream",
     "name": "stdout",
     "text": [
      "CPU times: user 26.2 s, sys: 1.72 s, total: 27.9 s\nWall time: 27.9 s\n"
     ]
    }
   ],
   "source": [
    "%%time\n",
    "\n",
    "pipe = Pipeline(steps=[\n",
    "        ('SelectBest', SelectKBest(score_func=f_classif, k=select_k_features)),\n",
    "\t\t('MinMaxScaler', MinMaxScaler(feature_range=(0, 1))),\n",
    "\t\t('ClassificationModel', model)\n",
    "        ])\n",
    "\n",
    "scoring = {'ACC': 'accuracy', \n",
    "            'recall': 'recall', \n",
    "            'f1': 'f1', \n",
    "            'roc_auc': 'roc_auc', \n",
    "            'ACC_B': 'balanced_accuracy', \n",
    "            'kappa': make_scorer(cohen_kappa_score), \n",
    "            'gmean': make_scorer(geometric_mean_score)\n",
    "        }\n",
    "\n",
    "kfold = KFold(n_splits=10, shuffle=True, random_state=42)\n",
    "\n",
    "scores = cross_validate(pipe, X, y, cv=kfold, scoring=scoring)"
   ]
  },
  {
   "cell_type": "code",
   "execution_count": 16,
   "metadata": {},
   "outputs": [
    {
     "output_type": "execute_result",
     "data": {
      "text/plain": [
       "{'fit_time': array([2.43370867, 2.40033102, 2.42511368, 2.43390465, 2.48236084,\n",
       "        2.496382  , 2.39783454, 2.5015626 , 2.47707295, 2.38794017]),\n",
       " 'score_time': array([0.34739017, 0.33847427, 0.33947825, 0.33899999, 0.34041786,\n",
       "        0.34658241, 0.36077666, 0.36186886, 0.33741546, 0.33985162]),\n",
       " 'test_ACC': array([0.9338843 , 0.8       , 0.76666667, 0.94166667, 0.73333333,\n",
       "        0.94166667, 0.725     , 0.83333333, 0.85833333, 0.76666667]),\n",
       " 'test_recall': array([1.        , 1.        , 1.        , 1.        , 1.        ,\n",
       "        0.96226415, 1.        , 0.94252874, 1.        , 1.        ]),\n",
       " 'test_f1': array([0.95833333, 0.88888889, 0.86792453, 0.96373057, 0.84615385,\n",
       "        0.96682464, 0.84057971, 0.89130435, 0.91457286, 0.86792453]),\n",
       " 'test_roc_auc': array([0.75787106, 0.84027778, 0.93944099, 0.80207089, 0.15625   ,\n",
       "        0.9059973 , 0.65604319, 0.93312435, 0.53486169, 0.49514752]),\n",
       " 'test_ACC_B': array([0.86206897, 0.5       , 0.5       , 0.87037037, 0.5       ,\n",
       "        0.87398922, 0.5       , 0.74399164, 0.70689655, 0.5       ]),\n",
       " 'test_kappa': array([0.79966887, 0.        , 0.        , 0.81578947, 0.        ,\n",
       "        0.7254902 , 0.        , 0.53863899, 0.51704545, 0.        ]),\n",
       " 'test_gmean': array([0.85096294, 0.        , 0.        , 0.86066297, 0.        ,\n",
       "        0.8695198 , 0.        , 0.71701226, 0.64326752, 0.        ])}"
      ]
     },
     "metadata": {},
     "execution_count": 16
    }
   ],
   "source": [
    "scores"
   ]
  }
 ]
}