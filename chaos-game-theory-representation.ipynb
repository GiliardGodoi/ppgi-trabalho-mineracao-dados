{
 "metadata": {
  "language_info": {
   "codemirror_mode": {
    "name": "ipython",
    "version": 3
   },
   "file_extension": ".py",
   "mimetype": "text/x-python",
   "name": "python",
   "nbconvert_exporter": "python",
   "pygments_lexer": "ipython3",
   "version": "3.6.9-final"
  },
  "orig_nbformat": 2,
  "kernelspec": {
   "name": "Python 3.6.9 64-bit",
   "display_name": "Python 3.6.9 64-bit",
   "metadata": {
    "interpreter": {
     "hash": "31f2aee4e71d21fbe5cf8b01ff0e069b9275f58929596ceb00d14d90e3e16cd6"
    }
   }
  }
 },
 "nbformat": 4,
 "nbformat_minor": 2,
 "cells": [
  {
   "cell_type": "code",
   "execution_count": 1,
   "metadata": {},
   "outputs": [],
   "source": [
    "import os\n",
    "from os import path\n",
    "import pandas as pd"
   ]
  },
  {
   "cell_type": "code",
   "execution_count": 2,
   "metadata": {},
   "outputs": [
    {
     "output_type": "execute_result",
     "data": {
      "text/plain": [
       "['chaos-game-theory_r1.csv',\n",
       " 'chaos-game-theory_r4.csv',\n",
       " 'complex-network-k3l10.csv',\n",
       " 'fourier-class-r5.csv',\n",
       " 'mapping-class_r1.csv',\n",
       " 'mapping-class_r2.csv',\n",
       " 'shannon-entropy-k12.csv']"
      ]
     },
     "metadata": {},
     "execution_count": 2
    }
   ],
   "source": [
    "base  = path.join('..', 'processed', '1-covid')\n",
    "\n",
    "files = sorted(f for f in os.listdir(base) if f.endswith('.csv'))\n",
    "\n",
    "files"
   ]
  },
  {
   "cell_type": "code",
   "execution_count": 13,
   "metadata": {},
   "outputs": [
    {
     "output_type": "stream",
     "name": "stdout",
     "text": [
      "chaos-game-theory_r1.csv\n",
      "(1717, 61638)\n",
      "CPU times: user 2min 19s, sys: 6.19 s, total: 2min 25s\n",
      "Wall time: 2min 25s\n"
     ]
    },
    {
     "output_type": "execute_result",
     "data": {
      "text/plain": [
       "      0      1      2      3       4        5         6         7      \\\n",
       "0  MN369046    0.5  -0.25  0.375 -0.3125 -0.65625  0.171875 -0.414062   \n",
       "1  MN306046   -0.5  -0.75 -0.875  0.0625  0.53125  0.765625  0.882812   \n",
       "2  MF542265    0.5   0.75 -0.125 -0.5625 -0.78125 -0.890625  0.054688   \n",
       "3  KY983587   -0.5  -0.75 -0.875 -0.9375  0.03125  0.515625  0.757812   \n",
       "4  KY621348   -0.5  -0.75  0.125  0.5625 -0.21875  0.390625 -0.304688   \n",
       "\n",
       "      8         9      ...  61628  61629  61630  61631  61632  61633  61634  \\\n",
       "0  0.292969 -0.353516  ...    0.0    0.0    0.0    0.0    0.0    0.0    0.0   \n",
       "1  0.941406  0.970703  ...    0.0    0.0    0.0    0.0    0.0    0.0    0.0   \n",
       "2  0.527344  0.763672  ...    0.0    0.0    0.0    0.0    0.0    0.0    0.0   \n",
       "3 -0.121094  0.439453  ...    0.0    0.0    0.0    0.0    0.0    0.0    0.0   \n",
       "4 -0.652344  0.173828  ...    0.0    0.0    0.0    0.0    0.0    0.0    0.0   \n",
       "\n",
       "   61635  61636  61637  \n",
       "0    0.0    0.0      0  \n",
       "1    0.0    0.0      0  \n",
       "2    0.0    0.0      0  \n",
       "3    0.0    0.0      0  \n",
       "4    0.0    0.0      0  \n",
       "\n",
       "[5 rows x 61638 columns]"
      ],
      "text/html": "<div>\n<style scoped>\n    .dataframe tbody tr th:only-of-type {\n        vertical-align: middle;\n    }\n\n    .dataframe tbody tr th {\n        vertical-align: top;\n    }\n\n    .dataframe thead th {\n        text-align: right;\n    }\n</style>\n<table border=\"1\" class=\"dataframe\">\n  <thead>\n    <tr style=\"text-align: right;\">\n      <th></th>\n      <th>0</th>\n      <th>1</th>\n      <th>2</th>\n      <th>3</th>\n      <th>4</th>\n      <th>5</th>\n      <th>6</th>\n      <th>7</th>\n      <th>8</th>\n      <th>9</th>\n      <th>...</th>\n      <th>61628</th>\n      <th>61629</th>\n      <th>61630</th>\n      <th>61631</th>\n      <th>61632</th>\n      <th>61633</th>\n      <th>61634</th>\n      <th>61635</th>\n      <th>61636</th>\n      <th>61637</th>\n    </tr>\n  </thead>\n  <tbody>\n    <tr>\n      <th>0</th>\n      <td>MN369046</td>\n      <td>0.5</td>\n      <td>-0.25</td>\n      <td>0.375</td>\n      <td>-0.3125</td>\n      <td>-0.65625</td>\n      <td>0.171875</td>\n      <td>-0.414062</td>\n      <td>0.292969</td>\n      <td>-0.353516</td>\n      <td>...</td>\n      <td>0.0</td>\n      <td>0.0</td>\n      <td>0.0</td>\n      <td>0.0</td>\n      <td>0.0</td>\n      <td>0.0</td>\n      <td>0.0</td>\n      <td>0.0</td>\n      <td>0.0</td>\n      <td>0</td>\n    </tr>\n    <tr>\n      <th>1</th>\n      <td>MN306046</td>\n      <td>-0.5</td>\n      <td>-0.75</td>\n      <td>-0.875</td>\n      <td>0.0625</td>\n      <td>0.53125</td>\n      <td>0.765625</td>\n      <td>0.882812</td>\n      <td>0.941406</td>\n      <td>0.970703</td>\n      <td>...</td>\n      <td>0.0</td>\n      <td>0.0</td>\n      <td>0.0</td>\n      <td>0.0</td>\n      <td>0.0</td>\n      <td>0.0</td>\n      <td>0.0</td>\n      <td>0.0</td>\n      <td>0.0</td>\n      <td>0</td>\n    </tr>\n    <tr>\n      <th>2</th>\n      <td>MF542265</td>\n      <td>0.5</td>\n      <td>0.75</td>\n      <td>-0.125</td>\n      <td>-0.5625</td>\n      <td>-0.78125</td>\n      <td>-0.890625</td>\n      <td>0.054688</td>\n      <td>0.527344</td>\n      <td>0.763672</td>\n      <td>...</td>\n      <td>0.0</td>\n      <td>0.0</td>\n      <td>0.0</td>\n      <td>0.0</td>\n      <td>0.0</td>\n      <td>0.0</td>\n      <td>0.0</td>\n      <td>0.0</td>\n      <td>0.0</td>\n      <td>0</td>\n    </tr>\n    <tr>\n      <th>3</th>\n      <td>KY983587</td>\n      <td>-0.5</td>\n      <td>-0.75</td>\n      <td>-0.875</td>\n      <td>-0.9375</td>\n      <td>0.03125</td>\n      <td>0.515625</td>\n      <td>0.757812</td>\n      <td>-0.121094</td>\n      <td>0.439453</td>\n      <td>...</td>\n      <td>0.0</td>\n      <td>0.0</td>\n      <td>0.0</td>\n      <td>0.0</td>\n      <td>0.0</td>\n      <td>0.0</td>\n      <td>0.0</td>\n      <td>0.0</td>\n      <td>0.0</td>\n      <td>0</td>\n    </tr>\n    <tr>\n      <th>4</th>\n      <td>KY621348</td>\n      <td>-0.5</td>\n      <td>-0.75</td>\n      <td>0.125</td>\n      <td>0.5625</td>\n      <td>-0.21875</td>\n      <td>0.390625</td>\n      <td>-0.304688</td>\n      <td>-0.652344</td>\n      <td>0.173828</td>\n      <td>...</td>\n      <td>0.0</td>\n      <td>0.0</td>\n      <td>0.0</td>\n      <td>0.0</td>\n      <td>0.0</td>\n      <td>0.0</td>\n      <td>0.0</td>\n      <td>0.0</td>\n      <td>0.0</td>\n      <td>0</td>\n    </tr>\n  </tbody>\n</table>\n<p>5 rows × 61638 columns</p>\n</div>"
     },
     "metadata": {},
     "execution_count": 13
    }
   ],
   "source": [
    "%%time\n",
    "\n",
    "index = 0\n",
    "\n",
    "print(files[index])\n",
    "frame = pd.read_csv(path.join(base,files[index]), header=None)\n",
    "\n",
    "if frame.iloc[0,0] == \"nameseq\":\n",
    "    frame.drop(labels=0, axis=0, inplace=True)\n",
    "\n",
    "print(frame.shape)\n",
    "\n",
    "frame.head()"
   ]
  },
  {
   "cell_type": "code",
   "execution_count": 17,
   "metadata": {},
   "outputs": [
    {
     "output_type": "stream",
     "name": "stdout",
     "text": [
      "<class 'pandas.core.frame.DataFrame'>\nInt64Index: 1717 entries, 1 to 1717\nColumns: 21 entries, 0 to 20\ndtypes: object(21)\nmemory usage: 295.1+ KB\n"
     ]
    }
   ],
   "source": [
    "frame.info(max_cols=10)"
   ]
  },
  {
   "cell_type": "code",
   "execution_count": 18,
   "metadata": {},
   "outputs": [
    {
     "output_type": "execute_result",
     "data": {
      "text/plain": [
       "30818.0"
      ]
     },
     "metadata": {},
     "execution_count": 18
    }
   ],
   "source": [
    "(61638 - 2) / 2"
   ]
  },
  {
   "cell_type": "code",
   "execution_count": 19,
   "metadata": {},
   "outputs": [
    {
     "output_type": "stream",
     "name": "stdout",
     "text": [
      "chaos-game-theory_r4.csv\n(1717, 21)\nCPU times: user 24 ms, sys: 0 ns, total: 24 ms\nWall time: 23.1 ms\n"
     ]
    },
    {
     "output_type": "execute_result",
     "data": {
      "text/plain": [
       "         0                      1                       2   \\\n",
       "1  MN369046   0.001427316902285762  0.00019796854958993132   \n",
       "2  MN306046  0.0014368022062834582  0.00019828351643380793   \n",
       "3  MF542265  0.0014371985749284555  0.00020113644481171958   \n",
       "4  KY983587  0.0014436719412540156  0.00020047324006067195   \n",
       "5  KY621348  0.0014471281779273803  0.00020217700110367393   \n",
       "\n",
       "                   3                       4                  5   \\\n",
       "1  22.960556243113697  3.0382742984358906e-09  6321651.474560562   \n",
       "2   23.26972472104611   3.224092723815345e-08  6325157.325243613   \n",
       "3  23.267663985815602  1.0493096692775172e-09  6323644.826732281   \n",
       "4  23.252662258774315  1.1551650280077875e-08  6286977.722549186   \n",
       "5    23.1659643145454   4.629676539764439e-08  6251001.216047046   \n",
       "\n",
       "                   6                    7                    8   \\\n",
       "1   485164.7550787921  0.13955497995149332   0.1395575577867794   \n",
       "2   487790.5398560699  0.14092737168559683   0.1409299562522148   \n",
       "3  486960.49275049334  0.14091230281745487  0.14091488701292754   \n",
       "4  484314.80584543286  0.14091479831021336  0.14091738596822148   \n",
       "5   481149.2235709661  0.14062448402197317  0.14062707500823804   \n",
       "\n",
       "                       9   ...                      11                     12  \\\n",
       "1   4.257070405566334e-05  ...  0.00019796854958993132  0.0004947123682197592   \n",
       "2   4.128777177346697e-05  ...  0.00019828351643380793   0.000501309902713316   \n",
       "3    4.19067590839401e-05  ...  0.00020113644481171958   0.000506764236627061   \n",
       "4  4.2625315140063363e-05  ...  0.00020047324006067195  0.0005069375400799103   \n",
       "5   4.195062127259985e-05  ...  0.00020217700110367393   0.000515908096394671   \n",
       "\n",
       "                   13                    14                      15  \\\n",
       "1  22.960556240075423  0.019476311935410266    0.000418378176043848   \n",
       "2  23.269724688805184  0.019861252569251177  0.00042432008787242164   \n",
       "3  23.267663984766294  0.019857005381866133  0.00042873713412343756   \n",
       "4  23.252662247222666  0.019857709668116705   0.0004303295415619267   \n",
       "5  23.165964268248633  0.019775974225372604   0.0004390417849106747   \n",
       "\n",
       "                       16                 17                    18  \\\n",
       "1    0.000209189088021924  97.77434830905767  0.026427183461094596   \n",
       "2  0.00021216004393621082  98.08404460216572   0.02636504197238705   \n",
       "3  0.00021436856706171878  98.04650886497683   0.02631556163803515   \n",
       "4  0.00021516477078096336  97.60860087632558  0.026467029356062412   \n",
       "5  0.00021952089245533735  97.17486409765009   0.02655905588878486   \n",
       "\n",
       "                    19 20  \n",
       "1  0.15588796316249412  0  \n",
       "2  0.15404783204439151  0  \n",
       "3  0.15520794367753082  0  \n",
       "4  0.15659705555864456  0  \n",
       "5  0.15934219485128107  0  \n",
       "\n",
       "[5 rows x 21 columns]"
      ],
      "text/html": "<div>\n<style scoped>\n    .dataframe tbody tr th:only-of-type {\n        vertical-align: middle;\n    }\n\n    .dataframe tbody tr th {\n        vertical-align: top;\n    }\n\n    .dataframe thead th {\n        text-align: right;\n    }\n</style>\n<table border=\"1\" class=\"dataframe\">\n  <thead>\n    <tr style=\"text-align: right;\">\n      <th></th>\n      <th>0</th>\n      <th>1</th>\n      <th>2</th>\n      <th>3</th>\n      <th>4</th>\n      <th>5</th>\n      <th>6</th>\n      <th>7</th>\n      <th>8</th>\n      <th>9</th>\n      <th>...</th>\n      <th>11</th>\n      <th>12</th>\n      <th>13</th>\n      <th>14</th>\n      <th>15</th>\n      <th>16</th>\n      <th>17</th>\n      <th>18</th>\n      <th>19</th>\n      <th>20</th>\n    </tr>\n  </thead>\n  <tbody>\n    <tr>\n      <th>1</th>\n      <td>MN369046</td>\n      <td>0.001427316902285762</td>\n      <td>0.00019796854958993132</td>\n      <td>22.960556243113697</td>\n      <td>3.0382742984358906e-09</td>\n      <td>6321651.474560562</td>\n      <td>485164.7550787921</td>\n      <td>0.13955497995149332</td>\n      <td>0.1395575577867794</td>\n      <td>4.257070405566334e-05</td>\n      <td>...</td>\n      <td>0.00019796854958993132</td>\n      <td>0.0004947123682197592</td>\n      <td>22.960556240075423</td>\n      <td>0.019476311935410266</td>\n      <td>0.000418378176043848</td>\n      <td>0.000209189088021924</td>\n      <td>97.77434830905767</td>\n      <td>0.026427183461094596</td>\n      <td>0.15588796316249412</td>\n      <td>0</td>\n    </tr>\n    <tr>\n      <th>2</th>\n      <td>MN306046</td>\n      <td>0.0014368022062834582</td>\n      <td>0.00019828351643380793</td>\n      <td>23.26972472104611</td>\n      <td>3.224092723815345e-08</td>\n      <td>6325157.325243613</td>\n      <td>487790.5398560699</td>\n      <td>0.14092737168559683</td>\n      <td>0.1409299562522148</td>\n      <td>4.128777177346697e-05</td>\n      <td>...</td>\n      <td>0.00019828351643380793</td>\n      <td>0.000501309902713316</td>\n      <td>23.269724688805184</td>\n      <td>0.019861252569251177</td>\n      <td>0.00042432008787242164</td>\n      <td>0.00021216004393621082</td>\n      <td>98.08404460216572</td>\n      <td>0.02636504197238705</td>\n      <td>0.15404783204439151</td>\n      <td>0</td>\n    </tr>\n    <tr>\n      <th>3</th>\n      <td>MF542265</td>\n      <td>0.0014371985749284555</td>\n      <td>0.00020113644481171958</td>\n      <td>23.267663985815602</td>\n      <td>1.0493096692775172e-09</td>\n      <td>6323644.826732281</td>\n      <td>486960.49275049334</td>\n      <td>0.14091230281745487</td>\n      <td>0.14091488701292754</td>\n      <td>4.19067590839401e-05</td>\n      <td>...</td>\n      <td>0.00020113644481171958</td>\n      <td>0.000506764236627061</td>\n      <td>23.267663984766294</td>\n      <td>0.019857005381866133</td>\n      <td>0.00042873713412343756</td>\n      <td>0.00021436856706171878</td>\n      <td>98.04650886497683</td>\n      <td>0.02631556163803515</td>\n      <td>0.15520794367753082</td>\n      <td>0</td>\n    </tr>\n    <tr>\n      <th>4</th>\n      <td>KY983587</td>\n      <td>0.0014436719412540156</td>\n      <td>0.00020047324006067195</td>\n      <td>23.252662258774315</td>\n      <td>1.1551650280077875e-08</td>\n      <td>6286977.722549186</td>\n      <td>484314.80584543286</td>\n      <td>0.14091479831021336</td>\n      <td>0.14091738596822148</td>\n      <td>4.2625315140063363e-05</td>\n      <td>...</td>\n      <td>0.00020047324006067195</td>\n      <td>0.0005069375400799103</td>\n      <td>23.252662247222666</td>\n      <td>0.019857709668116705</td>\n      <td>0.0004303295415619267</td>\n      <td>0.00021516477078096336</td>\n      <td>97.60860087632558</td>\n      <td>0.026467029356062412</td>\n      <td>0.15659705555864456</td>\n      <td>0</td>\n    </tr>\n    <tr>\n      <th>5</th>\n      <td>KY621348</td>\n      <td>0.0014471281779273803</td>\n      <td>0.00020217700110367393</td>\n      <td>23.1659643145454</td>\n      <td>4.629676539764439e-08</td>\n      <td>6251001.216047046</td>\n      <td>481149.2235709661</td>\n      <td>0.14062448402197317</td>\n      <td>0.14062707500823804</td>\n      <td>4.195062127259985e-05</td>\n      <td>...</td>\n      <td>0.00020217700110367393</td>\n      <td>0.000515908096394671</td>\n      <td>23.165964268248633</td>\n      <td>0.019775974225372604</td>\n      <td>0.0004390417849106747</td>\n      <td>0.00021952089245533735</td>\n      <td>97.17486409765009</td>\n      <td>0.02655905588878486</td>\n      <td>0.15934219485128107</td>\n      <td>0</td>\n    </tr>\n  </tbody>\n</table>\n<p>5 rows × 21 columns</p>\n</div>"
     },
     "metadata": {},
     "execution_count": 19
    }
   ],
   "source": [
    "%%time\n",
    "\n",
    "index = 1\n",
    "\n",
    "print(files[index])\n",
    "frame_r2 = pd.read_csv(path.join(base,files[index]), header=None)\n",
    "\n",
    "if frame_r2.iloc[0,0] == \"nameseq\":\n",
    "    frame_r2.drop(labels=0, axis=0, inplace=True)\n",
    "\n",
    "print(frame_r2.shape)\n",
    "\n",
    "frame_r2.head()"
   ]
  },
  {
   "cell_type": "code",
   "execution_count": null,
   "metadata": {},
   "outputs": [],
   "source": []
  },
  {
   "cell_type": "code",
   "execution_count": null,
   "metadata": {},
   "outputs": [],
   "source": []
  }
 ]
}